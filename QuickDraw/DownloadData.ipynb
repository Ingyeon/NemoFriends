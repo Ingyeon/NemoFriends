{
 "cells": [
  {
   "cell_type": "code",
   "execution_count": 1,
   "metadata": {},
   "outputs": [],
   "source": [
    "import urllib.request\n",
    "import os"
   ]
  },
  {
   "cell_type": "code",
   "execution_count": 6,
   "metadata": {},
   "outputs": [
    {
     "name": "stdout",
     "output_type": "stream",
     "text": [
      "['ant', 'apple', 'asparagus', 'banana', 'bird', 'blueberry', 'blackberry', 'broccoli', 'bread', 'bush']\n"
     ]
    }
   ],
   "source": [
    "DataListPath = './DataList.txt'\n",
    "DataPath = './DATA/'\n",
    "\n",
    "with open(DataListPath) as f:\n",
    "    DataList = f.readlines()\n",
    "DataList = [Data.rstrip('\\n') for Data in DataList]\n",
    "\n",
    "print(DataList)"
   ]
  },
  {
   "cell_type": "code",
   "execution_count": 7,
   "metadata": {},
   "outputs": [],
   "source": [
    "def download():\n",
    "    base = 'https://storage.googleapis.com/quickdraw_dataset/full/'\n",
    "    if not os.path.exists(DataPath):\n",
    "        os.makedirs(DataPath)\n",
    "\n",
    "    for d in DataList:\n",
    "        path = f'{base}numpy_bitmap/{d}.npy'\n",
    "        print(path)\n",
    "        urllib.request.urlretrieve(path, f'{DataPath}{d}.npy')"
   ]
  },
  {
   "cell_type": "code",
   "execution_count": 8,
   "metadata": {},
   "outputs": [
    {
     "name": "stdout",
     "output_type": "stream",
     "text": [
      "https://storage.googleapis.com/quickdraw_dataset/full/numpy_bitmap/ant.npy\n",
      "https://storage.googleapis.com/quickdraw_dataset/full/numpy_bitmap/apple.npy\n",
      "https://storage.googleapis.com/quickdraw_dataset/full/numpy_bitmap/asparagus.npy\n",
      "https://storage.googleapis.com/quickdraw_dataset/full/numpy_bitmap/banana.npy\n",
      "https://storage.googleapis.com/quickdraw_dataset/full/numpy_bitmap/bird.npy\n",
      "https://storage.googleapis.com/quickdraw_dataset/full/numpy_bitmap/blueberry.npy\n",
      "https://storage.googleapis.com/quickdraw_dataset/full/numpy_bitmap/blackberry.npy\n",
      "https://storage.googleapis.com/quickdraw_dataset/full/numpy_bitmap/broccoli.npy\n",
      "https://storage.googleapis.com/quickdraw_dataset/full/numpy_bitmap/bread.npy\n",
      "https://storage.googleapis.com/quickdraw_dataset/full/numpy_bitmap/bush.npy\n"
     ]
    }
   ],
   "source": [
    "download()"
   ]
  }
 ],
 "metadata": {
  "kernelspec": {
   "display_name": "Python 3.9.12 ('base')",
   "language": "python",
   "name": "python3"
  },
  "language_info": {
   "codemirror_mode": {
    "name": "ipython",
    "version": 3
   },
   "file_extension": ".py",
   "mimetype": "text/x-python",
   "name": "python",
   "nbconvert_exporter": "python",
   "pygments_lexer": "ipython3",
   "version": "3.9.12"
  },
  "orig_nbformat": 4,
  "vscode": {
   "interpreter": {
    "hash": "73a1a05ce1d09db5a4e7b8d2b2f2b33d56db23c929c63bc42d08da681476b825"
   }
  }
 },
 "nbformat": 4,
 "nbformat_minor": 2
}
